{
 "cells": [
  {
   "cell_type": "code",
   "execution_count": 2,
   "metadata": {},
   "outputs": [
    {
     "name": "stdout",
     "output_type": "stream",
     "text": [
      "Warning: Your Kaggle API key is readable by other users on this system! To fix this, you can run 'chmod 600 /home/manan/.kaggle/kaggle.json'\n"
     ]
    },
    {
     "name": "stderr",
     "output_type": "stream",
     "text": [
      "2024-07-23 19:10:56.413167: I tensorflow/core/util/port.cc:110] oneDNN custom operations are on. You may see slightly different numerical results due to floating-point round-off errors from different computation orders. To turn them off, set the environment variable `TF_ENABLE_ONEDNN_OPTS=0`.\n",
      "2024-07-23 19:10:56.501249: I tensorflow/tsl/cuda/cudart_stub.cc:28] Could not find cuda drivers on your machine, GPU will not be used.\n",
      "2024-07-23 19:10:57.100471: I tensorflow/tsl/cuda/cudart_stub.cc:28] Could not find cuda drivers on your machine, GPU will not be used.\n",
      "2024-07-23 19:10:57.104176: I tensorflow/core/platform/cpu_feature_guard.cc:182] This TensorFlow binary is optimized to use available CPU instructions in performance-critical operations.\n",
      "To enable the following instructions: AVX2 AVX512F AVX512_VNNI FMA, in other operations, rebuild TensorFlow with the appropriate compiler flags.\n",
      "2024-07-23 19:10:59.818661: W tensorflow/compiler/tf2tensorrt/utils/py_utils.cc:38] TF-TRT Warning: Could not find TensorRT\n"
     ]
    }
   ],
   "source": [
    "import os\n",
    "import kaggle as kg\n",
    "import os\n",
    "import pandas as pd\n",
    "import pathlib\n",
    "import numpy as np\n",
    "from keras.models import Model\n",
    "from keras.utils import to_categorical\n",
    "from keras.applications.vgg16 import VGG16\n",
    "from tensorflow.keras.layers import Input, Lambda ,Dense ,Flatten ,Dropout\n",
    "from keras.preprocessing.image import load_img, img_to_array"
   ]
  },
  {
   "cell_type": "code",
   "execution_count": 3,
   "metadata": {},
   "outputs": [],
   "source": [
    "def train_test_df(path):\n",
    "    image = list()\n",
    "    label = list()\n",
    "    image2 = list()\n",
    "    label2 = list()\n",
    "\n",
    "    for sub_dir in pathlib.Path(path).glob(\"*\"):\n",
    "        for i,img_path in enumerate(pathlib.Path(sub_dir).glob(\"*.jpeg\")):\n",
    "            if (i<=59):\n",
    "                image.append(str(img_path))\n",
    "                label.append(str(img_path).split(\"_\")[2])\n",
    "            else:\n",
    "                image2.append(str(img_path))\n",
    "                label2.append(str(img_path).split(\"_\")[2])\n",
    "    return pd.DataFrame(data={\"img_path\":image,\"label\":label}),pd.DataFrame(data={\"img_path\":image2,\"label\":label2})"
   ]
  },
  {
   "cell_type": "code",
   "execution_count": 4,
   "metadata": {},
   "outputs": [],
   "source": [
    "dataset_url = \"dataset/asl_dataset\""
   ]
  },
  {
   "cell_type": "code",
   "execution_count": 5,
   "metadata": {},
   "outputs": [],
   "source": [
    "train_df,test_df = train_test_df(dataset_url)"
   ]
  },
  {
   "cell_type": "code",
   "execution_count": 6,
   "metadata": {},
   "outputs": [
    {
     "data": {
      "text/html": [
       "<div>\n",
       "<style scoped>\n",
       "    .dataframe tbody tr th:only-of-type {\n",
       "        vertical-align: middle;\n",
       "    }\n",
       "\n",
       "    .dataframe tbody tr th {\n",
       "        vertical-align: top;\n",
       "    }\n",
       "\n",
       "    .dataframe thead th {\n",
       "        text-align: right;\n",
       "    }\n",
       "</style>\n",
       "<table border=\"1\" class=\"dataframe\">\n",
       "  <thead>\n",
       "    <tr style=\"text-align: right;\">\n",
       "      <th></th>\n",
       "      <th>img_path</th>\n",
       "      <th>label</th>\n",
       "    </tr>\n",
       "  </thead>\n",
       "  <tbody>\n",
       "    <tr>\n",
       "      <th>0</th>\n",
       "      <td>dataset/asl_dataset/6/hand5_6_dif_seg_1_croppe...</td>\n",
       "      <td>6</td>\n",
       "    </tr>\n",
       "    <tr>\n",
       "      <th>1</th>\n",
       "      <td>dataset/asl_dataset/6/hand2_6_left_seg_2_cropp...</td>\n",
       "      <td>6</td>\n",
       "    </tr>\n",
       "    <tr>\n",
       "      <th>2</th>\n",
       "      <td>dataset/asl_dataset/6/hand3_6_dif_seg_5_croppe...</td>\n",
       "      <td>6</td>\n",
       "    </tr>\n",
       "    <tr>\n",
       "      <th>3</th>\n",
       "      <td>dataset/asl_dataset/6/hand5_6_bot_seg_1_croppe...</td>\n",
       "      <td>6</td>\n",
       "    </tr>\n",
       "    <tr>\n",
       "      <th>4</th>\n",
       "      <td>dataset/asl_dataset/6/hand4_6_bot_seg_1_croppe...</td>\n",
       "      <td>6</td>\n",
       "    </tr>\n",
       "    <tr>\n",
       "      <th>...</th>\n",
       "      <td>...</td>\n",
       "      <td>...</td>\n",
       "    </tr>\n",
       "    <tr>\n",
       "      <th>2155</th>\n",
       "      <td>dataset/asl_dataset/p/hand3_p_dif_seg_2_croppe...</td>\n",
       "      <td>p</td>\n",
       "    </tr>\n",
       "    <tr>\n",
       "      <th>2156</th>\n",
       "      <td>dataset/asl_dataset/p/hand3_p_dif_seg_3_croppe...</td>\n",
       "      <td>p</td>\n",
       "    </tr>\n",
       "    <tr>\n",
       "      <th>2157</th>\n",
       "      <td>dataset/asl_dataset/p/hand1_p_dif_seg_4_croppe...</td>\n",
       "      <td>p</td>\n",
       "    </tr>\n",
       "    <tr>\n",
       "      <th>2158</th>\n",
       "      <td>dataset/asl_dataset/p/hand3_p_dif_seg_1_croppe...</td>\n",
       "      <td>p</td>\n",
       "    </tr>\n",
       "    <tr>\n",
       "      <th>2159</th>\n",
       "      <td>dataset/asl_dataset/p/hand2_p_bot_seg_3_croppe...</td>\n",
       "      <td>p</td>\n",
       "    </tr>\n",
       "  </tbody>\n",
       "</table>\n",
       "<p>2160 rows × 2 columns</p>\n",
       "</div>"
      ],
      "text/plain": [
       "                                               img_path label\n",
       "0     dataset/asl_dataset/6/hand5_6_dif_seg_1_croppe...     6\n",
       "1     dataset/asl_dataset/6/hand2_6_left_seg_2_cropp...     6\n",
       "2     dataset/asl_dataset/6/hand3_6_dif_seg_5_croppe...     6\n",
       "3     dataset/asl_dataset/6/hand5_6_bot_seg_1_croppe...     6\n",
       "4     dataset/asl_dataset/6/hand4_6_bot_seg_1_croppe...     6\n",
       "...                                                 ...   ...\n",
       "2155  dataset/asl_dataset/p/hand3_p_dif_seg_2_croppe...     p\n",
       "2156  dataset/asl_dataset/p/hand3_p_dif_seg_3_croppe...     p\n",
       "2157  dataset/asl_dataset/p/hand1_p_dif_seg_4_croppe...     p\n",
       "2158  dataset/asl_dataset/p/hand3_p_dif_seg_1_croppe...     p\n",
       "2159  dataset/asl_dataset/p/hand2_p_bot_seg_3_croppe...     p\n",
       "\n",
       "[2160 rows x 2 columns]"
      ]
     },
     "execution_count": 6,
     "metadata": {},
     "output_type": "execute_result"
    }
   ],
   "source": [
    "train_df"
   ]
  },
  {
   "cell_type": "code",
   "execution_count": 7,
   "metadata": {},
   "outputs": [
    {
     "data": {
      "text/html": [
       "<div>\n",
       "<style scoped>\n",
       "    .dataframe tbody tr th:only-of-type {\n",
       "        vertical-align: middle;\n",
       "    }\n",
       "\n",
       "    .dataframe tbody tr th {\n",
       "        vertical-align: top;\n",
       "    }\n",
       "\n",
       "    .dataframe thead th {\n",
       "        text-align: right;\n",
       "    }\n",
       "</style>\n",
       "<table border=\"1\" class=\"dataframe\">\n",
       "  <thead>\n",
       "    <tr style=\"text-align: right;\">\n",
       "      <th></th>\n",
       "      <th>img_path</th>\n",
       "      <th>label</th>\n",
       "    </tr>\n",
       "  </thead>\n",
       "  <tbody>\n",
       "    <tr>\n",
       "      <th>0</th>\n",
       "      <td>dataset/asl_dataset/6/hand1_6_dif_seg_3_croppe...</td>\n",
       "      <td>6</td>\n",
       "    </tr>\n",
       "    <tr>\n",
       "      <th>1</th>\n",
       "      <td>dataset/asl_dataset/6/hand2_6_left_seg_1_cropp...</td>\n",
       "      <td>6</td>\n",
       "    </tr>\n",
       "    <tr>\n",
       "      <th>2</th>\n",
       "      <td>dataset/asl_dataset/6/hand2_6_top_seg_3_croppe...</td>\n",
       "      <td>6</td>\n",
       "    </tr>\n",
       "    <tr>\n",
       "      <th>3</th>\n",
       "      <td>dataset/asl_dataset/6/hand5_6_bot_seg_3_croppe...</td>\n",
       "      <td>6</td>\n",
       "    </tr>\n",
       "    <tr>\n",
       "      <th>4</th>\n",
       "      <td>dataset/asl_dataset/6/hand1_6_bot_seg_5_croppe...</td>\n",
       "      <td>6</td>\n",
       "    </tr>\n",
       "    <tr>\n",
       "      <th>...</th>\n",
       "      <td>...</td>\n",
       "      <td>...</td>\n",
       "    </tr>\n",
       "    <tr>\n",
       "      <th>350</th>\n",
       "      <td>dataset/asl_dataset/p/hand2_p_left_seg_2_cropp...</td>\n",
       "      <td>p</td>\n",
       "    </tr>\n",
       "    <tr>\n",
       "      <th>351</th>\n",
       "      <td>dataset/asl_dataset/p/hand1_p_dif_seg_2_croppe...</td>\n",
       "      <td>p</td>\n",
       "    </tr>\n",
       "    <tr>\n",
       "      <th>352</th>\n",
       "      <td>dataset/asl_dataset/p/hand5_p_bot_seg_1_croppe...</td>\n",
       "      <td>p</td>\n",
       "    </tr>\n",
       "    <tr>\n",
       "      <th>353</th>\n",
       "      <td>dataset/asl_dataset/p/hand2_p_dif_seg_3_croppe...</td>\n",
       "      <td>p</td>\n",
       "    </tr>\n",
       "    <tr>\n",
       "      <th>354</th>\n",
       "      <td>dataset/asl_dataset/p/hand1_p_right_seg_5_crop...</td>\n",
       "      <td>p</td>\n",
       "    </tr>\n",
       "  </tbody>\n",
       "</table>\n",
       "<p>355 rows × 2 columns</p>\n",
       "</div>"
      ],
      "text/plain": [
       "                                              img_path label\n",
       "0    dataset/asl_dataset/6/hand1_6_dif_seg_3_croppe...     6\n",
       "1    dataset/asl_dataset/6/hand2_6_left_seg_1_cropp...     6\n",
       "2    dataset/asl_dataset/6/hand2_6_top_seg_3_croppe...     6\n",
       "3    dataset/asl_dataset/6/hand5_6_bot_seg_3_croppe...     6\n",
       "4    dataset/asl_dataset/6/hand1_6_bot_seg_5_croppe...     6\n",
       "..                                                 ...   ...\n",
       "350  dataset/asl_dataset/p/hand2_p_left_seg_2_cropp...     p\n",
       "351  dataset/asl_dataset/p/hand1_p_dif_seg_2_croppe...     p\n",
       "352  dataset/asl_dataset/p/hand5_p_bot_seg_1_croppe...     p\n",
       "353  dataset/asl_dataset/p/hand2_p_dif_seg_3_croppe...     p\n",
       "354  dataset/asl_dataset/p/hand1_p_right_seg_5_crop...     p\n",
       "\n",
       "[355 rows x 2 columns]"
      ]
     },
     "execution_count": 7,
     "metadata": {},
     "output_type": "execute_result"
    }
   ],
   "source": [
    "test_df"
   ]
  },
  {
   "cell_type": "code",
   "execution_count": 8,
   "metadata": {},
   "outputs": [],
   "source": [
    "character_2_int = dict(zip(train_df[\"label\"].unique(),range(len(train_df[\"label\"].unique()))))"
   ]
  },
  {
   "cell_type": "code",
   "execution_count": 9,
   "metadata": {},
   "outputs": [
    {
     "data": {
      "text/plain": [
       "{'6': 0,\n",
       " '4': 1,\n",
       " 'm': 2,\n",
       " 'f': 3,\n",
       " 'j': 4,\n",
       " 'h': 5,\n",
       " 'x': 6,\n",
       " 'n': 7,\n",
       " '7': 8,\n",
       " 'l': 9,\n",
       " '5': 10,\n",
       " 'a': 11,\n",
       " '3': 12,\n",
       " '9': 13,\n",
       " '2': 14,\n",
       " 'y': 15,\n",
       " 'r': 16,\n",
       " 's': 17,\n",
       " 'i': 18,\n",
       " 't': 19,\n",
       " 'u': 20,\n",
       " 'v': 21,\n",
       " 'd': 22,\n",
       " 'g': 23,\n",
       " 'b': 24,\n",
       " 'e': 25,\n",
       " 'o': 26,\n",
       " '8': 27,\n",
       " 'w': 28,\n",
       " 'q': 29,\n",
       " '0': 30,\n",
       " 'k': 31,\n",
       " '1': 32,\n",
       " 'z': 33,\n",
       " 'c': 34,\n",
       " 'p': 35}"
      ]
     },
     "execution_count": 9,
     "metadata": {},
     "output_type": "execute_result"
    }
   ],
   "source": [
    "character_2_int"
   ]
  },
  {
   "cell_type": "code",
   "execution_count": 10,
   "metadata": {},
   "outputs": [
    {
     "name": "stderr",
     "output_type": "stream",
     "text": [
      "/tmp/ipykernel_26108/2319185013.py:1: FutureWarning: A value is trying to be set on a copy of a DataFrame or Series through chained assignment using an inplace method.\n",
      "The behavior will change in pandas 3.0. This inplace method will never work because the intermediate object on which we are setting values always behaves as a copy.\n",
      "\n",
      "For example, when doing 'df[col].method(value, inplace=True)', try using 'df.method({col: value}, inplace=True)' or df[col] = df[col].method(value) instead, to perform the operation inplace on the original object.\n",
      "\n",
      "\n",
      "  train_df[\"label\"].replace(to_replace=character_2_int.keys(),value=character_2_int.values(),inplace=True)\n",
      "/tmp/ipykernel_26108/2319185013.py:1: FutureWarning: Downcasting behavior in `replace` is deprecated and will be removed in a future version. To retain the old behavior, explicitly call `result.infer_objects(copy=False)`. To opt-in to the future behavior, set `pd.set_option('future.no_silent_downcasting', True)`\n",
      "  train_df[\"label\"].replace(to_replace=character_2_int.keys(),value=character_2_int.values(),inplace=True)\n",
      "/tmp/ipykernel_26108/2319185013.py:3: FutureWarning: A value is trying to be set on a copy of a DataFrame or Series through chained assignment using an inplace method.\n",
      "The behavior will change in pandas 3.0. This inplace method will never work because the intermediate object on which we are setting values always behaves as a copy.\n",
      "\n",
      "For example, when doing 'df[col].method(value, inplace=True)', try using 'df.method({col: value}, inplace=True)' or df[col] = df[col].method(value) instead, to perform the operation inplace on the original object.\n",
      "\n",
      "\n",
      "  test_df[\"label\"].replace(to_replace=character_2_int.keys(),value=character_2_int.values(),inplace=True)\n",
      "/tmp/ipykernel_26108/2319185013.py:3: FutureWarning: Downcasting behavior in `replace` is deprecated and will be removed in a future version. To retain the old behavior, explicitly call `result.infer_objects(copy=False)`. To opt-in to the future behavior, set `pd.set_option('future.no_silent_downcasting', True)`\n",
      "  test_df[\"label\"].replace(to_replace=character_2_int.keys(),value=character_2_int.values(),inplace=True)\n"
     ]
    }
   ],
   "source": [
    "train_df[\"label\"].replace(to_replace=character_2_int.keys(),value=character_2_int.values(),inplace=True)\n",
    "\n",
    "test_df[\"label\"].replace(to_replace=character_2_int.keys(),value=character_2_int.values(),inplace=True)"
   ]
  },
  {
   "cell_type": "code",
   "execution_count": 11,
   "metadata": {},
   "outputs": [
    {
     "data": {
      "text/html": [
       "<div>\n",
       "<style scoped>\n",
       "    .dataframe tbody tr th:only-of-type {\n",
       "        vertical-align: middle;\n",
       "    }\n",
       "\n",
       "    .dataframe tbody tr th {\n",
       "        vertical-align: top;\n",
       "    }\n",
       "\n",
       "    .dataframe thead th {\n",
       "        text-align: right;\n",
       "    }\n",
       "</style>\n",
       "<table border=\"1\" class=\"dataframe\">\n",
       "  <thead>\n",
       "    <tr style=\"text-align: right;\">\n",
       "      <th></th>\n",
       "      <th>img_path</th>\n",
       "      <th>label</th>\n",
       "    </tr>\n",
       "  </thead>\n",
       "  <tbody>\n",
       "    <tr>\n",
       "      <th>0</th>\n",
       "      <td>dataset/asl_dataset/6/hand5_6_dif_seg_1_croppe...</td>\n",
       "      <td>0</td>\n",
       "    </tr>\n",
       "    <tr>\n",
       "      <th>1</th>\n",
       "      <td>dataset/asl_dataset/6/hand2_6_left_seg_2_cropp...</td>\n",
       "      <td>0</td>\n",
       "    </tr>\n",
       "    <tr>\n",
       "      <th>2</th>\n",
       "      <td>dataset/asl_dataset/6/hand3_6_dif_seg_5_croppe...</td>\n",
       "      <td>0</td>\n",
       "    </tr>\n",
       "    <tr>\n",
       "      <th>3</th>\n",
       "      <td>dataset/asl_dataset/6/hand5_6_bot_seg_1_croppe...</td>\n",
       "      <td>0</td>\n",
       "    </tr>\n",
       "    <tr>\n",
       "      <th>4</th>\n",
       "      <td>dataset/asl_dataset/6/hand4_6_bot_seg_1_croppe...</td>\n",
       "      <td>0</td>\n",
       "    </tr>\n",
       "    <tr>\n",
       "      <th>...</th>\n",
       "      <td>...</td>\n",
       "      <td>...</td>\n",
       "    </tr>\n",
       "    <tr>\n",
       "      <th>2155</th>\n",
       "      <td>dataset/asl_dataset/p/hand3_p_dif_seg_2_croppe...</td>\n",
       "      <td>35</td>\n",
       "    </tr>\n",
       "    <tr>\n",
       "      <th>2156</th>\n",
       "      <td>dataset/asl_dataset/p/hand3_p_dif_seg_3_croppe...</td>\n",
       "      <td>35</td>\n",
       "    </tr>\n",
       "    <tr>\n",
       "      <th>2157</th>\n",
       "      <td>dataset/asl_dataset/p/hand1_p_dif_seg_4_croppe...</td>\n",
       "      <td>35</td>\n",
       "    </tr>\n",
       "    <tr>\n",
       "      <th>2158</th>\n",
       "      <td>dataset/asl_dataset/p/hand3_p_dif_seg_1_croppe...</td>\n",
       "      <td>35</td>\n",
       "    </tr>\n",
       "    <tr>\n",
       "      <th>2159</th>\n",
       "      <td>dataset/asl_dataset/p/hand2_p_bot_seg_3_croppe...</td>\n",
       "      <td>35</td>\n",
       "    </tr>\n",
       "  </tbody>\n",
       "</table>\n",
       "<p>2160 rows × 2 columns</p>\n",
       "</div>"
      ],
      "text/plain": [
       "                                               img_path  label\n",
       "0     dataset/asl_dataset/6/hand5_6_dif_seg_1_croppe...      0\n",
       "1     dataset/asl_dataset/6/hand2_6_left_seg_2_cropp...      0\n",
       "2     dataset/asl_dataset/6/hand3_6_dif_seg_5_croppe...      0\n",
       "3     dataset/asl_dataset/6/hand5_6_bot_seg_1_croppe...      0\n",
       "4     dataset/asl_dataset/6/hand4_6_bot_seg_1_croppe...      0\n",
       "...                                                 ...    ...\n",
       "2155  dataset/asl_dataset/p/hand3_p_dif_seg_2_croppe...     35\n",
       "2156  dataset/asl_dataset/p/hand3_p_dif_seg_3_croppe...     35\n",
       "2157  dataset/asl_dataset/p/hand1_p_dif_seg_4_croppe...     35\n",
       "2158  dataset/asl_dataset/p/hand3_p_dif_seg_1_croppe...     35\n",
       "2159  dataset/asl_dataset/p/hand2_p_bot_seg_3_croppe...     35\n",
       "\n",
       "[2160 rows x 2 columns]"
      ]
     },
     "execution_count": 11,
     "metadata": {},
     "output_type": "execute_result"
    }
   ],
   "source": [
    "train_df"
   ]
  },
  {
   "cell_type": "code",
   "execution_count": 12,
   "metadata": {},
   "outputs": [
    {
     "data": {
      "text/html": [
       "<div>\n",
       "<style scoped>\n",
       "    .dataframe tbody tr th:only-of-type {\n",
       "        vertical-align: middle;\n",
       "    }\n",
       "\n",
       "    .dataframe tbody tr th {\n",
       "        vertical-align: top;\n",
       "    }\n",
       "\n",
       "    .dataframe thead th {\n",
       "        text-align: right;\n",
       "    }\n",
       "</style>\n",
       "<table border=\"1\" class=\"dataframe\">\n",
       "  <thead>\n",
       "    <tr style=\"text-align: right;\">\n",
       "      <th></th>\n",
       "      <th>img_path</th>\n",
       "      <th>label</th>\n",
       "    </tr>\n",
       "  </thead>\n",
       "  <tbody>\n",
       "    <tr>\n",
       "      <th>0</th>\n",
       "      <td>dataset/asl_dataset/6/hand1_6_dif_seg_3_croppe...</td>\n",
       "      <td>0</td>\n",
       "    </tr>\n",
       "    <tr>\n",
       "      <th>1</th>\n",
       "      <td>dataset/asl_dataset/6/hand2_6_left_seg_1_cropp...</td>\n",
       "      <td>0</td>\n",
       "    </tr>\n",
       "    <tr>\n",
       "      <th>2</th>\n",
       "      <td>dataset/asl_dataset/6/hand2_6_top_seg_3_croppe...</td>\n",
       "      <td>0</td>\n",
       "    </tr>\n",
       "    <tr>\n",
       "      <th>3</th>\n",
       "      <td>dataset/asl_dataset/6/hand5_6_bot_seg_3_croppe...</td>\n",
       "      <td>0</td>\n",
       "    </tr>\n",
       "    <tr>\n",
       "      <th>4</th>\n",
       "      <td>dataset/asl_dataset/6/hand1_6_bot_seg_5_croppe...</td>\n",
       "      <td>0</td>\n",
       "    </tr>\n",
       "    <tr>\n",
       "      <th>...</th>\n",
       "      <td>...</td>\n",
       "      <td>...</td>\n",
       "    </tr>\n",
       "    <tr>\n",
       "      <th>350</th>\n",
       "      <td>dataset/asl_dataset/p/hand2_p_left_seg_2_cropp...</td>\n",
       "      <td>35</td>\n",
       "    </tr>\n",
       "    <tr>\n",
       "      <th>351</th>\n",
       "      <td>dataset/asl_dataset/p/hand1_p_dif_seg_2_croppe...</td>\n",
       "      <td>35</td>\n",
       "    </tr>\n",
       "    <tr>\n",
       "      <th>352</th>\n",
       "      <td>dataset/asl_dataset/p/hand5_p_bot_seg_1_croppe...</td>\n",
       "      <td>35</td>\n",
       "    </tr>\n",
       "    <tr>\n",
       "      <th>353</th>\n",
       "      <td>dataset/asl_dataset/p/hand2_p_dif_seg_3_croppe...</td>\n",
       "      <td>35</td>\n",
       "    </tr>\n",
       "    <tr>\n",
       "      <th>354</th>\n",
       "      <td>dataset/asl_dataset/p/hand1_p_right_seg_5_crop...</td>\n",
       "      <td>35</td>\n",
       "    </tr>\n",
       "  </tbody>\n",
       "</table>\n",
       "<p>355 rows × 2 columns</p>\n",
       "</div>"
      ],
      "text/plain": [
       "                                              img_path  label\n",
       "0    dataset/asl_dataset/6/hand1_6_dif_seg_3_croppe...      0\n",
       "1    dataset/asl_dataset/6/hand2_6_left_seg_1_cropp...      0\n",
       "2    dataset/asl_dataset/6/hand2_6_top_seg_3_croppe...      0\n",
       "3    dataset/asl_dataset/6/hand5_6_bot_seg_3_croppe...      0\n",
       "4    dataset/asl_dataset/6/hand1_6_bot_seg_5_croppe...      0\n",
       "..                                                 ...    ...\n",
       "350  dataset/asl_dataset/p/hand2_p_left_seg_2_cropp...     35\n",
       "351  dataset/asl_dataset/p/hand1_p_dif_seg_2_croppe...     35\n",
       "352  dataset/asl_dataset/p/hand5_p_bot_seg_1_croppe...     35\n",
       "353  dataset/asl_dataset/p/hand2_p_dif_seg_3_croppe...     35\n",
       "354  dataset/asl_dataset/p/hand1_p_right_seg_5_crop...     35\n",
       "\n",
       "[355 rows x 2 columns]"
      ]
     },
     "execution_count": 12,
     "metadata": {},
     "output_type": "execute_result"
    }
   ],
   "source": [
    "test_df"
   ]
  },
  {
   "cell_type": "code",
   "execution_count": 13,
   "metadata": {},
   "outputs": [],
   "source": [
    "y_true_train = to_categorical(y=train_df[\"label\"],num_classes=36)\n",
    "y_true_test = to_categorical(y=test_df[\"label\"],num_classes=36)"
   ]
  },
  {
   "cell_type": "code",
   "execution_count": 14,
   "metadata": {},
   "outputs": [
    {
     "data": {
      "text/plain": [
       "array([[1., 0., 0., ..., 0., 0., 0.],\n",
       "       [1., 0., 0., ..., 0., 0., 0.],\n",
       "       [1., 0., 0., ..., 0., 0., 0.],\n",
       "       ...,\n",
       "       [0., 0., 0., ..., 0., 0., 1.],\n",
       "       [0., 0., 0., ..., 0., 0., 1.],\n",
       "       [0., 0., 0., ..., 0., 0., 1.]], dtype=float32)"
      ]
     },
     "execution_count": 14,
     "metadata": {},
     "output_type": "execute_result"
    }
   ],
   "source": [
    "y_true_train"
   ]
  },
  {
   "cell_type": "code",
   "execution_count": 15,
   "metadata": {},
   "outputs": [
    {
     "data": {
      "text/plain": [
       "array([[1., 0., 0., ..., 0., 0., 0.],\n",
       "       [1., 0., 0., ..., 0., 0., 0.],\n",
       "       [1., 0., 0., ..., 0., 0., 0.],\n",
       "       ...,\n",
       "       [0., 0., 0., ..., 0., 0., 1.],\n",
       "       [0., 0., 0., ..., 0., 0., 1.],\n",
       "       [0., 0., 0., ..., 0., 0., 1.]], dtype=float32)"
      ]
     },
     "execution_count": 15,
     "metadata": {},
     "output_type": "execute_result"
    }
   ],
   "source": [
    "y_true_test"
   ]
  },
  {
   "cell_type": "code",
   "execution_count": 16,
   "metadata": {},
   "outputs": [],
   "source": [
    "def data_generator(data_df, y_true, mb_size):\n",
    "    num_batches = data_df.shape[0] // mb_size\n",
    "\n",
    "    while True:\n",
    "        for batch_id in range(num_batches):\n",
    "            x_mb = list()\n",
    "            batch_start = batch_id * mb_size\n",
    "            batch_end = batch_start + mb_size\n",
    "\n",
    "            generated_img_paths = data_df.iloc[batch_start:batch_end][\"img_path\"].to_list()\n",
    "            for img_path in generated_img_paths:\n",
    "                img = load_img(img_path, target_size=(64, 64))\n",
    "                img_np_arr = img_to_array(img)\n",
    "                x_mb.append(img_np_arr)\n",
    "\n",
    "            x_mb = np.array(x_mb)\n",
    "            y_true_mb = y_true[batch_start:batch_end]\n",
    "\n",
    "            yield x_mb, y_true_mb"
   ]
  },
  {
   "cell_type": "code",
   "execution_count": 17,
   "metadata": {},
   "outputs": [],
   "source": [
    "generator_train = data_generator(train_df, y_true_train, 64)\n",
    "generator_test = data_generator(test_df, y_true_test, 64)"
   ]
  },
  {
   "cell_type": "code",
   "execution_count": 19,
   "metadata": {},
   "outputs": [],
   "source": [
    "classifier_vgg16 = VGG16(input_shape= (64,64,3),include_top=False,weights='imagenet')"
   ]
  },
  {
   "cell_type": "code",
   "execution_count": 20,
   "metadata": {},
   "outputs": [],
   "source": [
    "for layer in classifier_vgg16.layers:\n",
    "    layer.trainable = False"
   ]
  },
  {
   "cell_type": "code",
   "execution_count": 21,
   "metadata": {},
   "outputs": [],
   "source": [
    "classifier1 = classifier_vgg16.output\n",
    "classifier1 = Flatten()(classifier1)\n",
    "classifier1 = Dense(units=256, activation='relu')(classifier1)\n",
    "classifier1 = Dropout(0.6)(classifier1)\n",
    "classifier1 = Dense(units=36, activation='softmax')(classifier1)\n",
    "\n",
    "model = Model(inputs = classifier_vgg16.input , outputs = classifier1)\n",
    "model.compile(optimizer='adam', loss='categorical_crossentropy', metrics=['accuracy'])"
   ]
  },
  {
   "cell_type": "code",
   "execution_count": 22,
   "metadata": {},
   "outputs": [
    {
     "name": "stdout",
     "output_type": "stream",
     "text": [
      "Model: \"model\"\n",
      "_________________________________________________________________\n",
      " Layer (type)                Output Shape              Param #   \n",
      "=================================================================\n",
      " input_2 (InputLayer)        [(None, 64, 64, 3)]       0         \n",
      "                                                                 \n",
      " block1_conv1 (Conv2D)       (None, 64, 64, 64)        1792      \n",
      "                                                                 \n",
      " block1_conv2 (Conv2D)       (None, 64, 64, 64)        36928     \n",
      "                                                                 \n",
      " block1_pool (MaxPooling2D)  (None, 32, 32, 64)        0         \n",
      "                                                                 \n",
      " block2_conv1 (Conv2D)       (None, 32, 32, 128)       73856     \n",
      "                                                                 \n",
      " block2_conv2 (Conv2D)       (None, 32, 32, 128)       147584    \n",
      "                                                                 \n",
      " block2_pool (MaxPooling2D)  (None, 16, 16, 128)       0         \n",
      "                                                                 \n",
      " block3_conv1 (Conv2D)       (None, 16, 16, 256)       295168    \n",
      "                                                                 \n",
      " block3_conv2 (Conv2D)       (None, 16, 16, 256)       590080    \n",
      "                                                                 \n",
      " block3_conv3 (Conv2D)       (None, 16, 16, 256)       590080    \n",
      "                                                                 \n",
      " block3_pool (MaxPooling2D)  (None, 8, 8, 256)         0         \n",
      "                                                                 \n",
      " block4_conv1 (Conv2D)       (None, 8, 8, 512)         1180160   \n",
      "                                                                 \n",
      " block4_conv2 (Conv2D)       (None, 8, 8, 512)         2359808   \n",
      "                                                                 \n",
      " block4_conv3 (Conv2D)       (None, 8, 8, 512)         2359808   \n",
      "                                                                 \n",
      " block4_pool (MaxPooling2D)  (None, 4, 4, 512)         0         \n",
      "                                                                 \n",
      " block5_conv1 (Conv2D)       (None, 4, 4, 512)         2359808   \n",
      "                                                                 \n",
      " block5_conv2 (Conv2D)       (None, 4, 4, 512)         2359808   \n",
      "                                                                 \n",
      " block5_conv3 (Conv2D)       (None, 4, 4, 512)         2359808   \n",
      "                                                                 \n",
      " block5_pool (MaxPooling2D)  (None, 2, 2, 512)         0         \n",
      "                                                                 \n",
      " flatten (Flatten)           (None, 2048)              0         \n",
      "                                                                 \n",
      " dense (Dense)               (None, 256)               524544    \n",
      "                                                                 \n",
      " dropout (Dropout)           (None, 256)               0         \n",
      "                                                                 \n",
      " dense_1 (Dense)             (None, 36)                9252      \n",
      "                                                                 \n",
      "=================================================================\n",
      "Total params: 15248484 (58.17 MB)\n",
      "Trainable params: 533796 (2.04 MB)\n",
      "Non-trainable params: 14714688 (56.13 MB)\n",
      "_________________________________________________________________\n"
     ]
    }
   ],
   "source": [
    "model.summary()"
   ]
  },
  {
   "cell_type": "code",
   "execution_count": 23,
   "metadata": {},
   "outputs": [
    {
     "name": "stdout",
     "output_type": "stream",
     "text": [
      "Epoch 1/15\n",
      "33/33 [==============================] - 32s 942ms/step - loss: 31.3374 - accuracy: 0.0109 - val_loss: 2.5932 - val_accuracy: 0.2969\n",
      "Epoch 2/15\n",
      "33/33 [==============================] - 31s 942ms/step - loss: 3.5741 - accuracy: 0.1065 - val_loss: 2.6205 - val_accuracy: 0.3406\n",
      "Epoch 3/15\n",
      "33/33 [==============================] - 39s 1s/step - loss: 2.9930 - accuracy: 0.1899 - val_loss: 2.1531 - val_accuracy: 0.4531\n",
      "Epoch 4/15\n",
      "33/33 [==============================] - 40s 1s/step - loss: 2.7373 - accuracy: 0.2509 - val_loss: 1.8448 - val_accuracy: 0.5375\n",
      "Epoch 5/15\n",
      "33/33 [==============================] - 36s 1s/step - loss: 2.4016 - accuracy: 0.3106 - val_loss: 1.4652 - val_accuracy: 0.6438\n",
      "Epoch 6/15\n",
      "33/33 [==============================] - 40s 1s/step - loss: 2.2099 - accuracy: 0.3504 - val_loss: 1.1630 - val_accuracy: 0.7000\n",
      "Epoch 7/15\n",
      "33/33 [==============================] - 35s 1s/step - loss: 2.1653 - accuracy: 0.3707 - val_loss: 1.1253 - val_accuracy: 0.7063\n",
      "Epoch 8/15\n",
      "33/33 [==============================] - 40s 1s/step - loss: 1.9282 - accuracy: 0.4313 - val_loss: 0.9783 - val_accuracy: 0.7344\n",
      "Epoch 9/15\n",
      "33/33 [==============================] - 35s 1s/step - loss: 1.6943 - accuracy: 0.4744 - val_loss: 0.7436 - val_accuracy: 0.8438\n",
      "Epoch 10/15\n",
      "33/33 [==============================] - 38s 1s/step - loss: 1.4769 - accuracy: 0.5350 - val_loss: 0.6433 - val_accuracy: 0.8344\n",
      "Epoch 11/15\n",
      "33/33 [==============================] - 37s 1s/step - loss: 1.4871 - accuracy: 0.5336 - val_loss: 0.6197 - val_accuracy: 0.8188\n",
      "Epoch 12/15\n",
      "33/33 [==============================] - 38s 1s/step - loss: 1.3633 - accuracy: 0.5535 - val_loss: 0.4996 - val_accuracy: 0.8625\n",
      "Epoch 13/15\n",
      "33/33 [==============================] - 39s 1s/step - loss: 1.1972 - accuracy: 0.6084 - val_loss: 0.4483 - val_accuracy: 0.8719\n",
      "Epoch 14/15\n",
      "33/33 [==============================] - 37s 1s/step - loss: 1.1469 - accuracy: 0.6136 - val_loss: 0.4307 - val_accuracy: 0.8469\n",
      "Epoch 15/15\n",
      "33/33 [==============================] - 35s 1s/step - loss: 1.1043 - accuracy: 0.6231 - val_loss: 0.3819 - val_accuracy: 0.8969\n"
     ]
    }
   ],
   "source": [
    "history = model.fit(generator_train,\n",
    "                    steps_per_epoch=train_df.shape[0] // 64,\n",
    "                    epochs=15,\n",
    "                    validation_data=generator_test,\n",
    "                    validation_steps=test_df.shape[0] // 64)"
   ]
  },
  {
   "cell_type": "code",
   "execution_count": null,
   "metadata": {},
   "outputs": [],
   "source": []
  },
  {
   "cell_type": "code",
   "execution_count": null,
   "metadata": {},
   "outputs": [],
   "source": []
  },
  {
   "cell_type": "code",
   "execution_count": null,
   "metadata": {},
   "outputs": [],
   "source": []
  }
 ],
 "metadata": {
  "kernelspec": {
   "display_name": ".venv",
   "language": "python",
   "name": "python3"
  },
  "language_info": {
   "codemirror_mode": {
    "name": "ipython",
    "version": 3
   },
   "file_extension": ".py",
   "mimetype": "text/x-python",
   "name": "python",
   "nbconvert_exporter": "python",
   "pygments_lexer": "ipython3",
   "version": "3.10.12"
  }
 },
 "nbformat": 4,
 "nbformat_minor": 2
}
